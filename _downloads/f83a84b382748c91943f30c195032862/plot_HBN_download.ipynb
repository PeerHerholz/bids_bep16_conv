{
  "cells": [
    {
      "cell_type": "code",
      "execution_count": null,
      "metadata": {
        "collapsed": false
      },
      "outputs": [],
      "source": [
        "%matplotlib inline"
      ]
    },
    {
      "cell_type": "markdown",
      "metadata": {},
      "source": [
        "\n# Fetching the HBN example dataset\nThis example demonstrates how to use :mod:`bids_bep16_conv.datasets` to fetch\nthe HBN example dataset.\n"
      ]
    },
    {
      "cell_type": "markdown",
      "metadata": {},
      "source": [
        "Much of the functionality of the ``bids_bep16_conv`` toolbox relies on downloading\ncandidate example datasets. Each dataset has its own functions to check and evaluate QC\nfiles to find suitable participants, as well as dedicated download functions that will obtain\nthe data from the BIDS connectivity OSF project. The respective files differ between example datasets\nand respectively utilized pipeline/workflow but are obtained in a way that they confirm\nto BIDS common derivatives, specifically as input for tools that generate BEP16-related output.\n\nHere we show how the HBN example dataset was generated and can be assessed, via describing the respective\nworkflow and utilized ``functions``.\n\nThe ``HBN dataset`` and its derivatives are provided openly via the\n[FCP-INDI AWS bucket](https://fcp-indi.s3.amazonaws.com/index.html#data/Projects/HBN/), entailing various\npipeline/workflow outputs. Here, we are going to focus on the preprocessing conducted via ``QSIprep``.\n\nAt first, we need to find a suitable ``participant``, in terms of overall data quality, Luckily, ``QSIprep``\nprovides a respective file that includes a ``quality control score`` for each ``participant``.\nUsing the :func:`datasets.get_HBN_qc` function we can obtain and check this file:\n\n"
      ]
    },
    {
      "cell_type": "code",
      "execution_count": null,
      "metadata": {
        "collapsed": false
      },
      "outputs": [],
      "source": [
        "from bids_bep16_conv import datasets\n\nHBN_qc_file = datasets.get_HBN_qc(return_df=True)\nprint(HBN_qc_file)"
      ]
    },
    {
      "cell_type": "markdown",
      "metadata": {},
      "source": [
        "What we get is a :class:`~pandas.DataFrame` entailing the content of ``QSIprep``'s ``participant.tsv`` file.\nIn contains various ``demographic variables`` but also the ``Quality Control scores`` we are interested in.\nIn order to make the respective evaluation more straightforward, we can use the :func:`datasets.get_HBN_qc` function,\nwhich will sort the :class:`~pandas.DataFrame` based on the ``dl_qc_score`` variable. We can furthermore indicate how\nmany ``participants`` with the highest score, as well as if the sorted :class:`~pandas.DataFrame`\nand a ``raincloud plot`` of the ``dl_qc_score`` variable across the ``dataset`` should be returned.\n\nHere, we going to get the ``participants`` that have the ``3`` highest scores, the sorted :class:`~pandas.DataFrame` and the ``raincloud plot``.\n\n"
      ]
    },
    {
      "cell_type": "code",
      "execution_count": null,
      "metadata": {
        "collapsed": false
      },
      "outputs": [],
      "source": [
        "HBN_qc_participants_df_sorted = datasets.eval_HBN_qc(HBN_qc_file,\n                                                     n_high_participants=3,\n                                                     visualize=True, return_sorted_df=True)"
      ]
    },
    {
      "cell_type": "markdown",
      "metadata": {},
      "source": [
        "As you can see in the ``raincloud plot``, the score has a rather interesting distribution but the\nabove obtained :class:`~pandas.Series` indicates that ``participant`` ``sub-NDAREK918EC2`` has the\nhighest ``dl_qc_score``. However, upon closer inspection it was noticed that this participant doesn't \nhave all files necessary to test multiple analysis pipelines and the respective conversion to BEP16.\nThus, the ``participant``'s data with the second highest ``dl_qc_score`` was utilized. This refers to\n``sub-NDARYM277DEA`['s QSIprep outputs](https://fcp-indi.s3.amazonaws.com/index.html#data/Projects/HBN/BIDS_curated/derivatives/qsiprep/sub-NDAREK918EC2/)\nwhich were downloaded from the [FCP-INDI AWS bucket](https://fcp-indi.s3.amazonaws.com/index.html#data/Projects/HBN/) and subsequently\nuploaded to the [dataset component](https://osf.io/bz2vj/) of the [BIDS connectivity project](https://pestillilab.github.io/bids-connectivity/) [OSF project](https://osf.io/u4g5p/#!)\nfor access and management.\n\nThat being said, we can use :func:`datasets.download_HBN` ``function`` to download the respective ``data``, for example\nto our ``Desktop``.\n\n"
      ]
    },
    {
      "cell_type": "code",
      "execution_count": null,
      "metadata": {
        "collapsed": false
      },
      "outputs": [],
      "source": [
        "HBN_dataset_path = datasets.download_HBN()"
      ]
    },
    {
      "cell_type": "markdown",
      "metadata": {},
      "source": [
        "Importantly, this ``function`` does not only obtain the ``participant``'s ``QSIprep`` output, but\nalso obtains the ``dataset_description.json`` and generates the ``data json sidecar`` ``file`` required by\n[BIDS common derivatives](https://bids-specification.readthedocs.io/en/stable/05-derivatives/02-common-data-types.html).\nThe latter is achieved by downloading the\n[respective raw data json sidecar file](https://fcp-indi.s3.amazonaws.com/index.html#data/Projects/HBN/BIDS_curated/sub-NDAREK918EC2/ses-HBNsiteSI/dwi/) and appending the needed ``inheritance-related`` & ``spatial reference-related`` information.\n\nWith that, we have a feasible ``HBN sub-dataset``, confirming to\n[BIDS common derivatives](https://bids-specification.readthedocs.io/en/stable/05-derivatives/02-common-data-types.html),\nas well as\n[inputs required by BEP16](https://github.com/bids-standard/bids-bep016/pull/24/files) and respective further processing.\n\n"
      ]
    }
  ],
  "metadata": {
    "kernelspec": {
      "display_name": "Python 3",
      "language": "python",
      "name": "python3"
    },
    "language_info": {
      "codemirror_mode": {
        "name": "ipython",
        "version": 3
      },
      "file_extension": ".py",
      "mimetype": "text/x-python",
      "name": "python",
      "nbconvert_exporter": "python",
      "pygments_lexer": "ipython3",
      "version": "3.8.16"
    }
  },
  "nbformat": 4,
  "nbformat_minor": 0
}